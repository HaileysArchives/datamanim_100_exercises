{
 "cells": [
  {
   "cell_type": "code",
   "execution_count": 1,
   "id": "51addeef-ae98-4a95-bdaa-aad20e0e4bbd",
   "metadata": {},
   "outputs": [],
   "source": [
    "import pandas as pd\n",
    "import numpy as np\n",
    "import seaborn as sns\n",
    "import matplotlib.pyplot as plt\n",
    "\n",
    "from collections import Counter\n",
    "\n",
    "%matplotlib inline"
   ]
  },
  {
   "cell_type": "code",
   "execution_count": 2,
   "id": "df0fdbe7-f18d-4b48-89da-e23364a2ec4f",
   "metadata": {},
   "outputs": [
    {
     "data": {
      "text/html": [
       "<div>\n",
       "<style scoped>\n",
       "    .dataframe tbody tr th:only-of-type {\n",
       "        vertical-align: middle;\n",
       "    }\n",
       "\n",
       "    .dataframe tbody tr th {\n",
       "        vertical-align: top;\n",
       "    }\n",
       "\n",
       "    .dataframe thead th {\n",
       "        text-align: right;\n",
       "    }\n",
       "</style>\n",
       "<table border=\"1\" class=\"dataframe\">\n",
       "  <thead>\n",
       "    <tr style=\"text-align: right;\">\n",
       "      <th></th>\n",
       "      <th>Unnamed: 0</th>\n",
       "      <th>title</th>\n",
       "      <th>channelTitle</th>\n",
       "      <th>categoryId</th>\n",
       "      <th>view_count</th>\n",
       "      <th>likes</th>\n",
       "      <th>dislikes</th>\n",
       "      <th>comment_count</th>\n",
       "      <th>channelId</th>\n",
       "      <th>trending_date2</th>\n",
       "    </tr>\n",
       "  </thead>\n",
       "  <tbody>\n",
       "    <tr>\n",
       "      <th>0</th>\n",
       "      <td>0</td>\n",
       "      <td>[신병] 물자창고</td>\n",
       "      <td>장삐쭈</td>\n",
       "      <td>23</td>\n",
       "      <td>1893473</td>\n",
       "      <td>38249</td>\n",
       "      <td>730</td>\n",
       "      <td>8595</td>\n",
       "      <td>UChbE5OZQ6dRHECsX0tEPEZQ</td>\n",
       "      <td>2021-01-01</td>\n",
       "    </tr>\n",
       "    <tr>\n",
       "      <th>1</th>\n",
       "      <td>1</td>\n",
       "      <td>RAIN(비) - 나로 바꾸자 Switch to me (duet with JYP) MV</td>\n",
       "      <td>RAIN's Official Channel</td>\n",
       "      <td>10</td>\n",
       "      <td>2600864</td>\n",
       "      <td>0</td>\n",
       "      <td>0</td>\n",
       "      <td>20129</td>\n",
       "      <td>UCxXgIeE5hxWxHG6dz9Scg2w</td>\n",
       "      <td>2021-01-01</td>\n",
       "    </tr>\n",
       "    <tr>\n",
       "      <th>2</th>\n",
       "      <td>2</td>\n",
       "      <td>2020년 제야의 종 온라인 타종행사 | 보신각 현장 행사는 진행하지 않습니다.</td>\n",
       "      <td>서울시 · Seoul</td>\n",
       "      <td>29</td>\n",
       "      <td>347049</td>\n",
       "      <td>3564</td>\n",
       "      <td>120</td>\n",
       "      <td>178</td>\n",
       "      <td>UCZUPZW5idAxYp-Asj__lVAA</td>\n",
       "      <td>2021-01-01</td>\n",
       "    </tr>\n",
       "    <tr>\n",
       "      <th>3</th>\n",
       "      <td>3</td>\n",
       "      <td>고기남자의 칠면조 파티</td>\n",
       "      <td>고기남자 MeatMan</td>\n",
       "      <td>26</td>\n",
       "      <td>528458</td>\n",
       "      <td>15372</td>\n",
       "      <td>280</td>\n",
       "      <td>3470</td>\n",
       "      <td>UCT3CumbFIJiW33uq0UI3zlg</td>\n",
       "      <td>2021-01-01</td>\n",
       "    </tr>\n",
       "    <tr>\n",
       "      <th>4</th>\n",
       "      <td>4</td>\n",
       "      <td>골목 3mc를 분노하게 만든 마음고생이 심했을 공릉 백반집 사장님의 푸념?! [예능...</td>\n",
       "      <td>스브스밥집</td>\n",
       "      <td>24</td>\n",
       "      <td>494904</td>\n",
       "      <td>3918</td>\n",
       "      <td>111</td>\n",
       "      <td>3142</td>\n",
       "      <td>UCdWgRSfttvDucq4ApcCg5Mw</td>\n",
       "      <td>2021-01-01</td>\n",
       "    </tr>\n",
       "  </tbody>\n",
       "</table>\n",
       "</div>"
      ],
      "text/plain": [
       "   Unnamed: 0                                              title  \\\n",
       "0           0                                          [신병] 물자창고   \n",
       "1           1   RAIN(비) - 나로 바꾸자 Switch to me (duet with JYP) MV   \n",
       "2           2       2020년 제야의 종 온라인 타종행사 | 보신각 현장 행사는 진행하지 않습니다.   \n",
       "3           3                                       고기남자의 칠면조 파티   \n",
       "4           4  골목 3mc를 분노하게 만든 마음고생이 심했을 공릉 백반집 사장님의 푸념?! [예능...   \n",
       "\n",
       "              channelTitle  categoryId  view_count  likes  dislikes  \\\n",
       "0                      장삐쭈          23     1893473  38249       730   \n",
       "1  RAIN's Official Channel          10     2600864      0         0   \n",
       "2              서울시 · Seoul          29      347049   3564       120   \n",
       "3             고기남자 MeatMan          26      528458  15372       280   \n",
       "4                    스브스밥집          24      494904   3918       111   \n",
       "\n",
       "   comment_count                 channelId trending_date2  \n",
       "0           8595  UChbE5OZQ6dRHECsX0tEPEZQ     2021-01-01  \n",
       "1          20129  UCxXgIeE5hxWxHG6dz9Scg2w     2021-01-01  \n",
       "2            178  UCZUPZW5idAxYp-Asj__lVAA     2021-01-01  \n",
       "3           3470  UCT3CumbFIJiW33uq0UI3zlg     2021-01-01  \n",
       "4           3142  UCdWgRSfttvDucq4ApcCg5Mw     2021-01-01  "
      ]
     },
     "execution_count": 2,
     "metadata": {},
     "output_type": "execute_result"
    }
   ],
   "source": [
    "df = pd.read_csv('https://raw.githubusercontent.com/Datamanim/datarepo/main/youtube/youtube.csv')\n",
    "df.head()"
   ]
  },
  {
   "cell_type": "code",
   "execution_count": 3,
   "id": "29bd9688-1e22-4588-a37f-c02d1839e19a",
   "metadata": {},
   "outputs": [
    {
     "data": {
      "text/html": [
       "<div>\n",
       "<style scoped>\n",
       "    .dataframe tbody tr th:only-of-type {\n",
       "        vertical-align: middle;\n",
       "    }\n",
       "\n",
       "    .dataframe tbody tr th {\n",
       "        vertical-align: top;\n",
       "    }\n",
       "\n",
       "    .dataframe thead th {\n",
       "        text-align: right;\n",
       "    }\n",
       "</style>\n",
       "<table border=\"1\" class=\"dataframe\">\n",
       "  <thead>\n",
       "    <tr style=\"text-align: right;\">\n",
       "      <th></th>\n",
       "      <th>title</th>\n",
       "      <th>channelTitle</th>\n",
       "      <th>categoryId</th>\n",
       "      <th>view_count</th>\n",
       "      <th>likes</th>\n",
       "      <th>dislikes</th>\n",
       "      <th>comment_count</th>\n",
       "      <th>channelId</th>\n",
       "      <th>trending_date2</th>\n",
       "    </tr>\n",
       "    <tr>\n",
       "      <th>Unnamed: 0</th>\n",
       "      <th></th>\n",
       "      <th></th>\n",
       "      <th></th>\n",
       "      <th></th>\n",
       "      <th></th>\n",
       "      <th></th>\n",
       "      <th></th>\n",
       "      <th></th>\n",
       "      <th></th>\n",
       "    </tr>\n",
       "  </thead>\n",
       "  <tbody>\n",
       "    <tr>\n",
       "      <th>0</th>\n",
       "      <td>[신병] 물자창고</td>\n",
       "      <td>장삐쭈</td>\n",
       "      <td>23</td>\n",
       "      <td>1893473</td>\n",
       "      <td>38249</td>\n",
       "      <td>730</td>\n",
       "      <td>8595</td>\n",
       "      <td>UChbE5OZQ6dRHECsX0tEPEZQ</td>\n",
       "      <td>2021-01-01</td>\n",
       "    </tr>\n",
       "    <tr>\n",
       "      <th>1</th>\n",
       "      <td>RAIN(비) - 나로 바꾸자 Switch to me (duet with JYP) MV</td>\n",
       "      <td>RAIN's Official Channel</td>\n",
       "      <td>10</td>\n",
       "      <td>2600864</td>\n",
       "      <td>0</td>\n",
       "      <td>0</td>\n",
       "      <td>20129</td>\n",
       "      <td>UCxXgIeE5hxWxHG6dz9Scg2w</td>\n",
       "      <td>2021-01-01</td>\n",
       "    </tr>\n",
       "    <tr>\n",
       "      <th>2</th>\n",
       "      <td>2020년 제야의 종 온라인 타종행사 | 보신각 현장 행사는 진행하지 않습니다.</td>\n",
       "      <td>서울시 · Seoul</td>\n",
       "      <td>29</td>\n",
       "      <td>347049</td>\n",
       "      <td>3564</td>\n",
       "      <td>120</td>\n",
       "      <td>178</td>\n",
       "      <td>UCZUPZW5idAxYp-Asj__lVAA</td>\n",
       "      <td>2021-01-01</td>\n",
       "    </tr>\n",
       "    <tr>\n",
       "      <th>3</th>\n",
       "      <td>고기남자의 칠면조 파티</td>\n",
       "      <td>고기남자 MeatMan</td>\n",
       "      <td>26</td>\n",
       "      <td>528458</td>\n",
       "      <td>15372</td>\n",
       "      <td>280</td>\n",
       "      <td>3470</td>\n",
       "      <td>UCT3CumbFIJiW33uq0UI3zlg</td>\n",
       "      <td>2021-01-01</td>\n",
       "    </tr>\n",
       "    <tr>\n",
       "      <th>4</th>\n",
       "      <td>골목 3mc를 분노하게 만든 마음고생이 심했을 공릉 백반집 사장님의 푸념?! [예능...</td>\n",
       "      <td>스브스밥집</td>\n",
       "      <td>24</td>\n",
       "      <td>494904</td>\n",
       "      <td>3918</td>\n",
       "      <td>111</td>\n",
       "      <td>3142</td>\n",
       "      <td>UCdWgRSfttvDucq4ApcCg5Mw</td>\n",
       "      <td>2021-01-01</td>\n",
       "    </tr>\n",
       "  </tbody>\n",
       "</table>\n",
       "</div>"
      ],
      "text/plain": [
       "                                                        title  \\\n",
       "Unnamed: 0                                                      \n",
       "0                                                   [신병] 물자창고   \n",
       "1            RAIN(비) - 나로 바꾸자 Switch to me (duet with JYP) MV   \n",
       "2                2020년 제야의 종 온라인 타종행사 | 보신각 현장 행사는 진행하지 않습니다.   \n",
       "3                                                고기남자의 칠면조 파티   \n",
       "4           골목 3mc를 분노하게 만든 마음고생이 심했을 공릉 백반집 사장님의 푸념?! [예능...   \n",
       "\n",
       "                       channelTitle  categoryId  view_count  likes  dislikes  \\\n",
       "Unnamed: 0                                                                     \n",
       "0                               장삐쭈          23     1893473  38249       730   \n",
       "1           RAIN's Official Channel          10     2600864      0         0   \n",
       "2                       서울시 · Seoul          29      347049   3564       120   \n",
       "3                      고기남자 MeatMan          26      528458  15372       280   \n",
       "4                             스브스밥집          24      494904   3918       111   \n",
       "\n",
       "            comment_count                 channelId trending_date2  \n",
       "Unnamed: 0                                                          \n",
       "0                    8595  UChbE5OZQ6dRHECsX0tEPEZQ     2021-01-01  \n",
       "1                   20129  UCxXgIeE5hxWxHG6dz9Scg2w     2021-01-01  \n",
       "2                     178  UCZUPZW5idAxYp-Asj__lVAA     2021-01-01  \n",
       "3                    3470  UCT3CumbFIJiW33uq0UI3zlg     2021-01-01  \n",
       "4                    3142  UCdWgRSfttvDucq4ApcCg5Mw     2021-01-01  "
      ]
     },
     "execution_count": 3,
     "metadata": {},
     "output_type": "execute_result"
    }
   ],
   "source": [
    "df = df.set_index('Unnamed: 0') \n",
    "df.head()"
   ]
  },
  {
   "cell_type": "code",
   "execution_count": 4,
   "id": "242956d3-b04d-46ca-8738-794692caf0c6",
   "metadata": {},
   "outputs": [
    {
     "data": {
      "text/plain": [
       "(60399, 9)"
      ]
     },
     "execution_count": 4,
     "metadata": {},
     "output_type": "execute_result"
    }
   ],
   "source": [
    "df.shape"
   ]
  },
  {
   "cell_type": "code",
   "execution_count": 5,
   "id": "5d2a4228-5ed2-4964-b8fc-882645bbafeb",
   "metadata": {},
   "outputs": [
    {
     "name": "stdout",
     "output_type": "stream",
     "text": [
      "<class 'pandas.core.frame.DataFrame'>\n",
      "Index: 60399 entries, 0 to 60398\n",
      "Data columns (total 9 columns):\n",
      " #   Column          Non-Null Count  Dtype \n",
      "---  ------          --------------  ----- \n",
      " 0   title           60399 non-null  object\n",
      " 1   channelTitle    60399 non-null  object\n",
      " 2   categoryId      60399 non-null  int64 \n",
      " 3   view_count      60399 non-null  int64 \n",
      " 4   likes           60399 non-null  int64 \n",
      " 5   dislikes        60399 non-null  int64 \n",
      " 6   comment_count   60399 non-null  int64 \n",
      " 7   channelId       60399 non-null  object\n",
      " 8   trending_date2  60399 non-null  object\n",
      "dtypes: int64(5), object(4)\n",
      "memory usage: 4.6+ MB\n"
     ]
    }
   ],
   "source": [
    "df.info()"
   ]
  },
  {
   "cell_type": "markdown",
   "id": "90e992dc-ad6d-44fb-a63a-81b4c46872d8",
   "metadata": {},
   "source": [
    "### 인기 동영상 제작횟수가 많은 채널 상위 10개명을 출력하라. (날짜기준, 중복포함)"
   ]
  },
  {
   "cell_type": "code",
   "execution_count": 9,
   "id": "13574540-a052-44ae-9d20-6b42e361613a",
   "metadata": {},
   "outputs": [
    {
     "data": {
      "text/plain": [
       "channelTitle\n",
       "짤툰                       372\n",
       "파뿌리                      318\n",
       "SPOTV                    318\n",
       "런닝맨 - 스브스 공식 채널          313\n",
       "엠뚜루마뚜루 : MBC 공식 종합 채널    293\n",
       "장삐쭈                      283\n",
       "BANGTANTV                275\n",
       "채널 십오야                   274\n",
       "이과장                      258\n",
       "총몇명                      255\n",
       "Name: count, dtype: int64"
      ]
     },
     "execution_count": 9,
     "metadata": {},
     "output_type": "execute_result"
    }
   ],
   "source": [
    "top10 = df['channelTitle'].value_counts().head(10)\n",
    "top10"
   ]
  },
  {
   "cell_type": "code",
   "execution_count": 11,
   "id": "c83c7ef8-35d5-491d-9e72-58dc1795f4ff",
   "metadata": {},
   "outputs": [
    {
     "data": {
      "text/plain": [
       "Index(['짤툰', '파뿌리', 'SPOTV', '런닝맨 - 스브스 공식 채널', '엠뚜루마뚜루 : MBC 공식 종합 채널', '장삐쭈',\n",
       "       'BANGTANTV', '채널 십오야', '이과장', '총몇명'],\n",
       "      dtype='object', name='channelTitle')"
      ]
     },
     "execution_count": 11,
     "metadata": {},
     "output_type": "execute_result"
    }
   ],
   "source": [
    "top10.index"
   ]
  },
  {
   "cell_type": "markdown",
   "id": "eeaecc11-6881-400d-b58f-fe59c640c2df",
   "metadata": {},
   "source": [
    "### 논란으로 인기동영상이 된 케이스를 확인하고 싶다. dislikes수가 like 수보다 높은 동영상을 제작한 채널을 모두 출력하라."
   ]
  },
  {
   "cell_type": "code",
   "execution_count": 13,
   "id": "798f0077-42ec-4f04-9a5c-155a7446b271",
   "metadata": {},
   "outputs": [
    {
     "data": {
      "text/html": [
       "<div>\n",
       "<style scoped>\n",
       "    .dataframe tbody tr th:only-of-type {\n",
       "        vertical-align: middle;\n",
       "    }\n",
       "\n",
       "    .dataframe tbody tr th {\n",
       "        vertical-align: top;\n",
       "    }\n",
       "\n",
       "    .dataframe thead th {\n",
       "        text-align: right;\n",
       "    }\n",
       "</style>\n",
       "<table border=\"1\" class=\"dataframe\">\n",
       "  <thead>\n",
       "    <tr style=\"text-align: right;\">\n",
       "      <th></th>\n",
       "      <th>likes</th>\n",
       "      <th>dislikes</th>\n",
       "    </tr>\n",
       "    <tr>\n",
       "      <th>Unnamed: 0</th>\n",
       "      <th></th>\n",
       "      <th></th>\n",
       "    </tr>\n",
       "  </thead>\n",
       "  <tbody>\n",
       "    <tr>\n",
       "      <th>0</th>\n",
       "      <td>38249</td>\n",
       "      <td>730</td>\n",
       "    </tr>\n",
       "    <tr>\n",
       "      <th>1</th>\n",
       "      <td>0</td>\n",
       "      <td>0</td>\n",
       "    </tr>\n",
       "    <tr>\n",
       "      <th>2</th>\n",
       "      <td>3564</td>\n",
       "      <td>120</td>\n",
       "    </tr>\n",
       "    <tr>\n",
       "      <th>3</th>\n",
       "      <td>15372</td>\n",
       "      <td>280</td>\n",
       "    </tr>\n",
       "    <tr>\n",
       "      <th>4</th>\n",
       "      <td>3918</td>\n",
       "      <td>111</td>\n",
       "    </tr>\n",
       "  </tbody>\n",
       "</table>\n",
       "</div>"
      ],
      "text/plain": [
       "            likes  dislikes\n",
       "Unnamed: 0                 \n",
       "0           38249       730\n",
       "1               0         0\n",
       "2            3564       120\n",
       "3           15372       280\n",
       "4            3918       111"
      ]
     },
     "execution_count": 13,
     "metadata": {},
     "output_type": "execute_result"
    }
   ],
   "source": [
    "df[['likes', 'dislikes']].head()"
   ]
  },
  {
   "cell_type": "code",
   "execution_count": 17,
   "id": "7ff65e4a-917e-43c0-8e74-88d360b3dcc4",
   "metadata": {},
   "outputs": [
    {
     "data": {
      "text/html": [
       "<div>\n",
       "<style scoped>\n",
       "    .dataframe tbody tr th:only-of-type {\n",
       "        vertical-align: middle;\n",
       "    }\n",
       "\n",
       "    .dataframe tbody tr th {\n",
       "        vertical-align: top;\n",
       "    }\n",
       "\n",
       "    .dataframe thead th {\n",
       "        text-align: right;\n",
       "    }\n",
       "</style>\n",
       "<table border=\"1\" class=\"dataframe\">\n",
       "  <thead>\n",
       "    <tr style=\"text-align: right;\">\n",
       "      <th></th>\n",
       "      <th>dislikes</th>\n",
       "      <th>likes</th>\n",
       "    </tr>\n",
       "    <tr>\n",
       "      <th>channelTitle</th>\n",
       "      <th></th>\n",
       "      <th></th>\n",
       "    </tr>\n",
       "  </thead>\n",
       "  <tbody>\n",
       "    <tr>\n",
       "      <th>#Like_Football 라이크풋볼</th>\n",
       "      <td>944</td>\n",
       "      <td>19102</td>\n",
       "    </tr>\n",
       "    <tr>\n",
       "      <th>(G)I-DLE (여자)아이들 (Official YouTube Channel)</th>\n",
       "      <td>287755</td>\n",
       "      <td>12339953</td>\n",
       "    </tr>\n",
       "    <tr>\n",
       "      <th>(G)I-DLE - Topic</th>\n",
       "      <td>2747</td>\n",
       "      <td>149386</td>\n",
       "    </tr>\n",
       "    <tr>\n",
       "      <th>(MUTUBE)와꾸대장봉준</th>\n",
       "      <td>456156</td>\n",
       "      <td>75284</td>\n",
       "    </tr>\n",
       "    <tr>\n",
       "      <th>01년생편돌이[CU]</th>\n",
       "      <td>28318</td>\n",
       "      <td>825541</td>\n",
       "    </tr>\n",
       "  </tbody>\n",
       "</table>\n",
       "</div>"
      ],
      "text/plain": [
       "                                             dislikes     likes\n",
       "channelTitle                                                   \n",
       "#Like_Football 라이크풋볼                              944     19102\n",
       "(G)I-DLE (여자)아이들 (Official YouTube Channel)    287755  12339953\n",
       "(G)I-DLE - Topic                                 2747    149386\n",
       "(MUTUBE)와꾸대장봉준                                 456156     75284\n",
       "01년생편돌이[CU]                                     28318    825541"
      ]
     },
     "execution_count": 17,
     "metadata": {},
     "output_type": "execute_result"
    }
   ],
   "source": [
    "diff = df.groupby(by='channelTitle')[['dislikes', 'likes']].sum()\n",
    "diff.head()"
   ]
  },
  {
   "cell_type": "code",
   "execution_count": 18,
   "id": "7ceb0f32-c9e9-4e9a-b338-70de822531f4",
   "metadata": {},
   "outputs": [
    {
     "data": {
      "text/html": [
       "<div>\n",
       "<style scoped>\n",
       "    .dataframe tbody tr th:only-of-type {\n",
       "        vertical-align: middle;\n",
       "    }\n",
       "\n",
       "    .dataframe tbody tr th {\n",
       "        vertical-align: top;\n",
       "    }\n",
       "\n",
       "    .dataframe thead th {\n",
       "        text-align: right;\n",
       "    }\n",
       "</style>\n",
       "<table border=\"1\" class=\"dataframe\">\n",
       "  <thead>\n",
       "    <tr style=\"text-align: right;\">\n",
       "      <th></th>\n",
       "      <th>dislikes</th>\n",
       "      <th>likes</th>\n",
       "    </tr>\n",
       "    <tr>\n",
       "      <th>channelTitle</th>\n",
       "      <th></th>\n",
       "      <th></th>\n",
       "    </tr>\n",
       "  </thead>\n",
       "  <tbody>\n",
       "    <tr>\n",
       "      <th>(MUTUBE)와꾸대장봉준</th>\n",
       "      <td>456156</td>\n",
       "      <td>75284</td>\n",
       "    </tr>\n",
       "    <tr>\n",
       "      <th>ASMR 애정TV</th>\n",
       "      <td>20483</td>\n",
       "      <td>17050</td>\n",
       "    </tr>\n",
       "    <tr>\n",
       "      <th>Gen.G esports</th>\n",
       "      <td>17166</td>\n",
       "      <td>14072</td>\n",
       "    </tr>\n",
       "    <tr>\n",
       "      <th>MapleStory_KR</th>\n",
       "      <td>34892</td>\n",
       "      <td>28187</td>\n",
       "    </tr>\n",
       "    <tr>\n",
       "      <th>양팡 YangPang</th>\n",
       "      <td>1428963</td>\n",
       "      <td>885345</td>\n",
       "    </tr>\n",
       "  </tbody>\n",
       "</table>\n",
       "</div>"
      ],
      "text/plain": [
       "                dislikes   likes\n",
       "channelTitle                    \n",
       "(MUTUBE)와꾸대장봉준    456156   75284\n",
       "ASMR 애정TV          20483   17050\n",
       "Gen.G esports      17166   14072\n",
       "MapleStory_KR      34892   28187\n",
       "양팡 YangPang      1428963  885345"
      ]
     },
     "execution_count": 18,
     "metadata": {},
     "output_type": "execute_result"
    }
   ],
   "source": [
    "diff[diff['dislikes'] > diff['likes']].head()"
   ]
  },
  {
   "cell_type": "code",
   "execution_count": 19,
   "id": "fc7c68d9-ff6c-445b-a5f5-7ee41a49ecc3",
   "metadata": {},
   "outputs": [
    {
     "data": {
      "text/plain": [
       "Index(['(MUTUBE)와꾸대장봉준', 'ASMR 애정TV', 'Gen.G esports', 'MapleStory_KR',\n",
       "       '양팡 YangPang'],\n",
       "      dtype='object', name='channelTitle')"
      ]
     },
     "execution_count": 19,
     "metadata": {},
     "output_type": "execute_result"
    }
   ],
   "source": [
    "diff[diff['dislikes'] > diff['likes']].head().index"
   ]
  },
  {
   "cell_type": "code",
   "execution_count": 20,
   "id": "c7a9ea12-1791-4a5f-8df4-c82fe632d188",
   "metadata": {},
   "outputs": [
    {
     "name": "stdout",
     "output_type": "stream",
     "text": [
      "['핫도그TV' 'ASMR 애정TV' '하얀트리HayanTree' '양팡 YangPang' '철구형 (CHULTUBE)'\n",
      " '왜냐맨하우스' '(MUTUBE)와꾸대장봉준' '오메킴TV' '육지담' 'MapleStory_KR'\n",
      " 'ROAD FIGHTING CHAMPIONSHIP' '사나이 김기훈' '나혼자산다 STUDIO' 'Gen.G esports']\n"
     ]
    }
   ],
   "source": [
    "# answer\n",
    "answer = df.loc[df['dislikes'] > df['likes']]\n",
    "print(answer['channelTitle'].unique())"
   ]
  },
  {
   "cell_type": "markdown",
   "id": "4809c3b9-4892-4b2b-8ade-7737dd9c1871",
   "metadata": {},
   "source": [
    "내가 작성한 코드는 '채널별로 전체 영상의 dislikes와 likes를 합산해서 그 합계를 기준으로 골라내는 코드' \n",
    "- **즉 채널의 전체적인 평가를 살펴보는 코드로, 문제의 의도와는 다른 코드**"
   ]
  },
  {
   "cell_type": "markdown",
   "id": "9c0efff0-d4dc-4861-b0b4-1ecc9e72d168",
   "metadata": {},
   "source": [
    "### 채널명을 바꾼 케이스가 있는지 확인하고 싶다. channelId의 경우 고유값이므로 이를 통해 채널명을 한번이라도 바꾼 채널의 개수를 구하여라"
   ]
  },
  {
   "cell_type": "code",
   "execution_count": 23,
   "id": "520e04a4-a196-43f3-972a-52db7963c4cd",
   "metadata": {},
   "outputs": [
    {
     "data": {
      "text/html": [
       "<div>\n",
       "<style scoped>\n",
       "    .dataframe tbody tr th:only-of-type {\n",
       "        vertical-align: middle;\n",
       "    }\n",
       "\n",
       "    .dataframe tbody tr th {\n",
       "        vertical-align: top;\n",
       "    }\n",
       "\n",
       "    .dataframe thead th {\n",
       "        text-align: right;\n",
       "    }\n",
       "</style>\n",
       "<table border=\"1\" class=\"dataframe\">\n",
       "  <thead>\n",
       "    <tr style=\"text-align: right;\">\n",
       "      <th></th>\n",
       "      <th>channelTitle</th>\n",
       "      <th>channelId</th>\n",
       "    </tr>\n",
       "    <tr>\n",
       "      <th>Unnamed: 0</th>\n",
       "      <th></th>\n",
       "      <th></th>\n",
       "    </tr>\n",
       "  </thead>\n",
       "  <tbody>\n",
       "    <tr>\n",
       "      <th>0</th>\n",
       "      <td>장삐쭈</td>\n",
       "      <td>UChbE5OZQ6dRHECsX0tEPEZQ</td>\n",
       "    </tr>\n",
       "    <tr>\n",
       "      <th>1</th>\n",
       "      <td>RAIN's Official Channel</td>\n",
       "      <td>UCxXgIeE5hxWxHG6dz9Scg2w</td>\n",
       "    </tr>\n",
       "    <tr>\n",
       "      <th>2</th>\n",
       "      <td>서울시 · Seoul</td>\n",
       "      <td>UCZUPZW5idAxYp-Asj__lVAA</td>\n",
       "    </tr>\n",
       "    <tr>\n",
       "      <th>3</th>\n",
       "      <td>고기남자 MeatMan</td>\n",
       "      <td>UCT3CumbFIJiW33uq0UI3zlg</td>\n",
       "    </tr>\n",
       "    <tr>\n",
       "      <th>4</th>\n",
       "      <td>스브스밥집</td>\n",
       "      <td>UCdWgRSfttvDucq4ApcCg5Mw</td>\n",
       "    </tr>\n",
       "  </tbody>\n",
       "</table>\n",
       "</div>"
      ],
      "text/plain": [
       "                       channelTitle                 channelId\n",
       "Unnamed: 0                                                   \n",
       "0                               장삐쭈  UChbE5OZQ6dRHECsX0tEPEZQ\n",
       "1           RAIN's Official Channel  UCxXgIeE5hxWxHG6dz9Scg2w\n",
       "2                       서울시 · Seoul  UCZUPZW5idAxYp-Asj__lVAA\n",
       "3                      고기남자 MeatMan  UCT3CumbFIJiW33uq0UI3zlg\n",
       "4                             스브스밥집  UCdWgRSfttvDucq4ApcCg5Mw"
      ]
     },
     "execution_count": 23,
     "metadata": {},
     "output_type": "execute_result"
    }
   ],
   "source": [
    "df[['channelTitle', 'channelId']].head()"
   ]
  },
  {
   "cell_type": "markdown",
   "id": "f3b03d83-ca9d-45bd-9b84-550826db0950",
   "metadata": {},
   "source": [
    "- **duplicated()**: True/False로 중복된 행인지 판단\n",
    "- **drop_duplicates()**: 중복된 행 제거 "
   ]
  },
  {
   "cell_type": "code",
   "execution_count": 28,
   "id": "f08a3065-a1c2-40e3-a62c-a97d1c0eded5",
   "metadata": {},
   "outputs": [
    {
     "data": {
      "text/html": [
       "<div>\n",
       "<style scoped>\n",
       "    .dataframe tbody tr th:only-of-type {\n",
       "        vertical-align: middle;\n",
       "    }\n",
       "\n",
       "    .dataframe tbody tr th {\n",
       "        vertical-align: top;\n",
       "    }\n",
       "\n",
       "    .dataframe thead th {\n",
       "        text-align: right;\n",
       "    }\n",
       "</style>\n",
       "<table border=\"1\" class=\"dataframe\">\n",
       "  <thead>\n",
       "    <tr style=\"text-align: right;\">\n",
       "      <th></th>\n",
       "      <th>channelTitle</th>\n",
       "      <th>channelId</th>\n",
       "    </tr>\n",
       "    <tr>\n",
       "      <th>Unnamed: 0</th>\n",
       "      <th></th>\n",
       "      <th></th>\n",
       "    </tr>\n",
       "  </thead>\n",
       "  <tbody>\n",
       "    <tr>\n",
       "      <th>0</th>\n",
       "      <td>장삐쭈</td>\n",
       "      <td>UChbE5OZQ6dRHECsX0tEPEZQ</td>\n",
       "    </tr>\n",
       "    <tr>\n",
       "      <th>1</th>\n",
       "      <td>RAIN's Official Channel</td>\n",
       "      <td>UCxXgIeE5hxWxHG6dz9Scg2w</td>\n",
       "    </tr>\n",
       "    <tr>\n",
       "      <th>2</th>\n",
       "      <td>서울시 · Seoul</td>\n",
       "      <td>UCZUPZW5idAxYp-Asj__lVAA</td>\n",
       "    </tr>\n",
       "    <tr>\n",
       "      <th>3</th>\n",
       "      <td>고기남자 MeatMan</td>\n",
       "      <td>UCT3CumbFIJiW33uq0UI3zlg</td>\n",
       "    </tr>\n",
       "    <tr>\n",
       "      <th>4</th>\n",
       "      <td>스브스밥집</td>\n",
       "      <td>UCdWgRSfttvDucq4ApcCg5Mw</td>\n",
       "    </tr>\n",
       "  </tbody>\n",
       "</table>\n",
       "</div>"
      ],
      "text/plain": [
       "                       channelTitle                 channelId\n",
       "Unnamed: 0                                                   \n",
       "0                               장삐쭈  UChbE5OZQ6dRHECsX0tEPEZQ\n",
       "1           RAIN's Official Channel  UCxXgIeE5hxWxHG6dz9Scg2w\n",
       "2                       서울시 · Seoul  UCZUPZW5idAxYp-Asj__lVAA\n",
       "3                      고기남자 MeatMan  UCT3CumbFIJiW33uq0UI3zlg\n",
       "4                             스브스밥집  UCdWgRSfttvDucq4ApcCg5Mw"
      ]
     },
     "execution_count": 28,
     "metadata": {},
     "output_type": "execute_result"
    }
   ],
   "source": [
    "# 두 개의 컬럼을 동시에 기준으로 해서 완전히 똑같은 쌍이 있는지 중복을 판단\n",
    "change = df[['channelTitle', 'channelId']].drop_duplicates()\n",
    "change.head()"
   ]
  },
  {
   "cell_type": "code",
   "execution_count": 32,
   "id": "abf1fce1-c904-4b82-8b64-1edfc87a4833",
   "metadata": {},
   "outputs": [
    {
     "name": "stdout",
     "output_type": "stream",
     "text": [
      "count\n",
      "False    1699\n",
      "True       71\n",
      "Name: count, dtype: int64\n"
     ]
    }
   ],
   "source": [
    "answer = change['channelId'].value_counts()\n",
    "answer = answer > 1\n",
    "print(answer.value_counts())"
   ]
  },
  {
   "cell_type": "markdown",
   "id": "bb930f85-1a0d-426d-9655-7d8f5b839f0d",
   "metadata": {},
   "source": [
    "### 일요일에 인기있었던 영상들 중 가장 많은 영상 종류(categoryId)는 무엇인가?"
   ]
  },
  {
   "cell_type": "code",
   "execution_count": 33,
   "id": "63c23638-b4a1-4c77-860b-6fa40c2875ad",
   "metadata": {},
   "outputs": [
    {
     "name": "stdout",
     "output_type": "stream",
     "text": [
      "<class 'pandas.core.frame.DataFrame'>\n",
      "Index: 60399 entries, 0 to 60398\n",
      "Data columns (total 9 columns):\n",
      " #   Column          Non-Null Count  Dtype \n",
      "---  ------          --------------  ----- \n",
      " 0   title           60399 non-null  object\n",
      " 1   channelTitle    60399 non-null  object\n",
      " 2   categoryId      60399 non-null  int64 \n",
      " 3   view_count      60399 non-null  int64 \n",
      " 4   likes           60399 non-null  int64 \n",
      " 5   dislikes        60399 non-null  int64 \n",
      " 6   comment_count   60399 non-null  int64 \n",
      " 7   channelId       60399 non-null  object\n",
      " 8   trending_date2  60399 non-null  object\n",
      "dtypes: int64(5), object(4)\n",
      "memory usage: 4.6+ MB\n"
     ]
    }
   ],
   "source": [
    "df.info()"
   ]
  },
  {
   "cell_type": "code",
   "execution_count": 36,
   "id": "f8dd4039-fe6d-41f0-9dae-4c53f603390a",
   "metadata": {},
   "outputs": [
    {
     "data": {
      "text/html": [
       "<div>\n",
       "<style scoped>\n",
       "    .dataframe tbody tr th:only-of-type {\n",
       "        vertical-align: middle;\n",
       "    }\n",
       "\n",
       "    .dataframe tbody tr th {\n",
       "        vertical-align: top;\n",
       "    }\n",
       "\n",
       "    .dataframe thead th {\n",
       "        text-align: right;\n",
       "    }\n",
       "</style>\n",
       "<table border=\"1\" class=\"dataframe\">\n",
       "  <thead>\n",
       "    <tr style=\"text-align: right;\">\n",
       "      <th></th>\n",
       "      <th>title</th>\n",
       "      <th>channelTitle</th>\n",
       "      <th>categoryId</th>\n",
       "      <th>view_count</th>\n",
       "      <th>likes</th>\n",
       "      <th>dislikes</th>\n",
       "      <th>comment_count</th>\n",
       "      <th>channelId</th>\n",
       "      <th>trending_date2</th>\n",
       "    </tr>\n",
       "    <tr>\n",
       "      <th>Unnamed: 0</th>\n",
       "      <th></th>\n",
       "      <th></th>\n",
       "      <th></th>\n",
       "      <th></th>\n",
       "      <th></th>\n",
       "      <th></th>\n",
       "      <th></th>\n",
       "      <th></th>\n",
       "      <th></th>\n",
       "    </tr>\n",
       "  </thead>\n",
       "  <tbody>\n",
       "    <tr>\n",
       "      <th>400</th>\n",
       "      <td>💎아형리미티드💎 [풀버전] 레전드의 레전드 무대! 박진영x비의 '나로 바꾸자'♬ (...</td>\n",
       "      <td>아는형님 Knowingbros</td>\n",
       "      <td>24</td>\n",
       "      <td>1045604</td>\n",
       "      <td>29146</td>\n",
       "      <td>461</td>\n",
       "      <td>2960</td>\n",
       "      <td>UCOHM2N1YQdb-cHWxJxwBMLQ</td>\n",
       "      <td>2021-01-03</td>\n",
       "    </tr>\n",
       "    <tr>\n",
       "      <th>401</th>\n",
       "      <td>27년 인생 첫 혼술 먹방 도중 방송사고가..</td>\n",
       "      <td>뜨뜨뜨뜨</td>\n",
       "      <td>22</td>\n",
       "      <td>995875</td>\n",
       "      <td>16176</td>\n",
       "      <td>452</td>\n",
       "      <td>1768</td>\n",
       "      <td>UCHxKSivB6JLZ1SEMdxd1fAg</td>\n",
       "      <td>2021-01-03</td>\n",
       "    </tr>\n",
       "    <tr>\n",
       "      <th>402</th>\n",
       "      <td>[2020 MBC 가요대제전] 비 X 박진영 - 나로 바꾸자 (RAIN X JYP ...</td>\n",
       "      <td>MBCkpop</td>\n",
       "      <td>10</td>\n",
       "      <td>1864219</td>\n",
       "      <td>52375</td>\n",
       "      <td>1379</td>\n",
       "      <td>6710</td>\n",
       "      <td>UCe52oeb7Xv_KaJsEzcKXJJg</td>\n",
       "      <td>2021-01-03</td>\n",
       "    </tr>\n",
       "    <tr>\n",
       "      <th>403</th>\n",
       "      <td>MBC방송연예대상 2부 대환장 꿀잼 모먼트 #TVPP | MBC 201229 방송</td>\n",
       "      <td>TV-People</td>\n",
       "      <td>24</td>\n",
       "      <td>512178</td>\n",
       "      <td>4649</td>\n",
       "      <td>172</td>\n",
       "      <td>444</td>\n",
       "      <td>UC1cWTErb7vw_UmmuB0dYgsQ</td>\n",
       "      <td>2021-01-03</td>\n",
       "    </tr>\n",
       "    <tr>\n",
       "      <th>404</th>\n",
       "      <td>[EP114]※충격※모든 걸 잃고 한순간에 신용불량자 된 모델 지연수</td>\n",
       "      <td>푸하하TV</td>\n",
       "      <td>24</td>\n",
       "      <td>905337</td>\n",
       "      <td>13632</td>\n",
       "      <td>425</td>\n",
       "      <td>2866</td>\n",
       "      <td>UCoW9qWiUvytH7ZpnYcX4dEQ</td>\n",
       "      <td>2021-01-03</td>\n",
       "    </tr>\n",
       "  </tbody>\n",
       "</table>\n",
       "</div>"
      ],
      "text/plain": [
       "                                                        title  \\\n",
       "Unnamed: 0                                                      \n",
       "400         💎아형리미티드💎 [풀버전] 레전드의 레전드 무대! 박진영x비의 '나로 바꾸자'♬ (...   \n",
       "401                                 27년 인생 첫 혼술 먹방 도중 방송사고가..   \n",
       "402         [2020 MBC 가요대제전] 비 X 박진영 - 나로 바꾸자 (RAIN X JYP ...   \n",
       "403             MBC방송연예대상 2부 대환장 꿀잼 모먼트 #TVPP | MBC 201229 방송   \n",
       "404                    [EP114]※충격※모든 걸 잃고 한순간에 신용불량자 된 모델 지연수   \n",
       "\n",
       "                channelTitle  categoryId  view_count  likes  dislikes  \\\n",
       "Unnamed: 0                                                              \n",
       "400         아는형님 Knowingbros          24     1045604  29146       461   \n",
       "401                     뜨뜨뜨뜨          22      995875  16176       452   \n",
       "402                  MBCkpop          10     1864219  52375      1379   \n",
       "403                TV-People          24      512178   4649       172   \n",
       "404                    푸하하TV          24      905337  13632       425   \n",
       "\n",
       "            comment_count                 channelId trending_date2  \n",
       "Unnamed: 0                                                          \n",
       "400                  2960  UCOHM2N1YQdb-cHWxJxwBMLQ     2021-01-03  \n",
       "401                  1768  UCHxKSivB6JLZ1SEMdxd1fAg     2021-01-03  \n",
       "402                  6710  UCe52oeb7Xv_KaJsEzcKXJJg     2021-01-03  \n",
       "403                   444  UC1cWTErb7vw_UmmuB0dYgsQ     2021-01-03  \n",
       "404                  2866  UCoW9qWiUvytH7ZpnYcX4dEQ     2021-01-03  "
      ]
     },
     "execution_count": 36,
     "metadata": {},
     "output_type": "execute_result"
    }
   ],
   "source": [
    "df['trending_date2'] = pd.to_datetime(df['trending_date2'])\n",
    "sunday = df.loc[df['trending_date2'].dt.day_name() == 'Sunday']\n",
    "sunday.head()"
   ]
  },
  {
   "cell_type": "code",
   "execution_count": 39,
   "id": "543bc2b1-8e4c-440d-97b8-1809a7370078",
   "metadata": {},
   "outputs": [
    {
     "data": {
      "text/plain": [
       "24"
      ]
     },
     "execution_count": 39,
     "metadata": {},
     "output_type": "execute_result"
    }
   ],
   "source": [
    "sunday['categoryId'].value_counts().index[0]"
   ]
  },
  {
   "cell_type": "markdown",
   "id": "0d274952-1a9d-4aa4-bc00-d4f5dbfcd273",
   "metadata": {},
   "source": [
    "- **dt.day_name()**: datetime 형식의 시리즈에서 요일 이름(예: Monday, Tuesday..)을 문자열로 반환해주는 함수"
   ]
  },
  {
   "cell_type": "code",
   "execution_count": null,
   "id": "6c399c8e-e263-4113-bf26-bf8bff4c35d4",
   "metadata": {},
   "outputs": [],
   "source": [
    "sunday = df[pd.to_datetime(df['trending_date']).dt.weekday == 6]\n",
    "# 일요일은 6이니까 이 조건으로 필터링 가능"
   ]
  },
  {
   "cell_type": "markdown",
   "id": "c589ee04-b077-4d9e-a2dd-d40f4a52867e",
   "metadata": {},
   "source": [
    "### 각 요일별 인기 영상들의 categoryId는 각각 몇 개씩인지 하나의 데이터 프레임으로 표현하라. "
   ]
  },
  {
   "cell_type": "code",
   "execution_count": null,
   "id": "b07594c8-f89a-4372-9539-031a8b956f31",
   "metadata": {},
   "outputs": [],
   "source": []
  },
  {
   "cell_type": "markdown",
   "id": "2e04d8a3-9071-48d3-b2f6-579d23285d97",
   "metadata": {},
   "source": [
    "### 댓글의 수로 (comment_count) 영상 반응데 대한 판단을 할 수 있다. viewcount 대비 댓글수가 가장 높은 영상을 확인하라. (view_count 값이 0인 경우는 제외한다) "
   ]
  },
  {
   "cell_type": "code",
   "execution_count": null,
   "id": "d3420c21-c153-4ffe-bf29-a3d05abf728b",
   "metadata": {},
   "outputs": [],
   "source": []
  },
  {
   "cell_type": "markdown",
   "id": "f652a775-0084-4170-8da8-bcd0eced67a9",
   "metadata": {},
   "source": [
    "### 댓글의 수로 (comment_count) 영상 반응에 대한 판단을 할 수 있다. viewcount 대비 댓글수가 가장 낮은 영상을 확인하라. (view_counts, ratio 값이 0인 경우는 제외한다) "
   ]
  },
  {
   "cell_type": "code",
   "execution_count": null,
   "id": "cd1231c5-44ec-4538-a0e2-8bff2aeed11d",
   "metadata": {},
   "outputs": [],
   "source": []
  },
  {
   "cell_type": "code",
   "execution_count": null,
   "id": "7099a6f3-2c81-458f-aeb6-1527af277ead",
   "metadata": {},
   "outputs": [],
   "source": []
  }
 ],
 "metadata": {
  "kernelspec": {
   "display_name": "Python 3 (ipykernel)",
   "language": "python",
   "name": "python3"
  },
  "language_info": {
   "codemirror_mode": {
    "name": "ipython",
    "version": 3
   },
   "file_extension": ".py",
   "mimetype": "text/x-python",
   "name": "python",
   "nbconvert_exporter": "python",
   "pygments_lexer": "ipython3",
   "version": "3.11.7"
  }
 },
 "nbformat": 4,
 "nbformat_minor": 5
}
