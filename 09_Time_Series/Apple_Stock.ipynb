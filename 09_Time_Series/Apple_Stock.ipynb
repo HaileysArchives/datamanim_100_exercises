{
 "cells": [
  {
   "cell_type": "code",
   "execution_count": 2,
   "id": "eb14f3c3-8a11-42b0-8e27-0a856f01468d",
   "metadata": {},
   "outputs": [],
   "source": [
    "import pandas as pd\n",
    "import numpy as np\n",
    "import seaborn as sns\n",
    "import matplotlib.pyplot as plt\n",
    "\n",
    "from collections import Counter\n",
    "\n",
    "%matplotlib inline"
   ]
  },
  {
   "cell_type": "code",
   "execution_count": 3,
   "id": "fdecf4da-b514-4e88-8ae0-c2ad3b4a19e6",
   "metadata": {},
   "outputs": [
    {
     "data": {
      "text/html": [
       "<div>\n",
       "<style scoped>\n",
       "    .dataframe tbody tr th:only-of-type {\n",
       "        vertical-align: middle;\n",
       "    }\n",
       "\n",
       "    .dataframe tbody tr th {\n",
       "        vertical-align: top;\n",
       "    }\n",
       "\n",
       "    .dataframe thead th {\n",
       "        text-align: right;\n",
       "    }\n",
       "</style>\n",
       "<table border=\"1\" class=\"dataframe\">\n",
       "  <thead>\n",
       "    <tr style=\"text-align: right;\">\n",
       "      <th></th>\n",
       "      <th>Date</th>\n",
       "      <th>Open</th>\n",
       "      <th>High</th>\n",
       "      <th>Low</th>\n",
       "      <th>Close</th>\n",
       "      <th>Volume</th>\n",
       "      <th>Adj Close</th>\n",
       "    </tr>\n",
       "  </thead>\n",
       "  <tbody>\n",
       "    <tr>\n",
       "      <th>0</th>\n",
       "      <td>2014-07-08</td>\n",
       "      <td>96.27</td>\n",
       "      <td>96.80</td>\n",
       "      <td>93.92</td>\n",
       "      <td>95.35</td>\n",
       "      <td>65130000</td>\n",
       "      <td>95.35</td>\n",
       "    </tr>\n",
       "    <tr>\n",
       "      <th>1</th>\n",
       "      <td>2014-07-07</td>\n",
       "      <td>94.14</td>\n",
       "      <td>95.99</td>\n",
       "      <td>94.10</td>\n",
       "      <td>95.97</td>\n",
       "      <td>56305400</td>\n",
       "      <td>95.97</td>\n",
       "    </tr>\n",
       "    <tr>\n",
       "      <th>2</th>\n",
       "      <td>2014-07-03</td>\n",
       "      <td>93.67</td>\n",
       "      <td>94.10</td>\n",
       "      <td>93.20</td>\n",
       "      <td>94.03</td>\n",
       "      <td>22891800</td>\n",
       "      <td>94.03</td>\n",
       "    </tr>\n",
       "    <tr>\n",
       "      <th>3</th>\n",
       "      <td>2014-07-02</td>\n",
       "      <td>93.87</td>\n",
       "      <td>94.06</td>\n",
       "      <td>93.09</td>\n",
       "      <td>93.48</td>\n",
       "      <td>28420900</td>\n",
       "      <td>93.48</td>\n",
       "    </tr>\n",
       "    <tr>\n",
       "      <th>4</th>\n",
       "      <td>2014-07-01</td>\n",
       "      <td>93.52</td>\n",
       "      <td>94.07</td>\n",
       "      <td>93.13</td>\n",
       "      <td>93.52</td>\n",
       "      <td>38170200</td>\n",
       "      <td>93.52</td>\n",
       "    </tr>\n",
       "  </tbody>\n",
       "</table>\n",
       "</div>"
      ],
      "text/plain": [
       "         Date   Open   High    Low  Close    Volume  Adj Close\n",
       "0  2014-07-08  96.27  96.80  93.92  95.35  65130000      95.35\n",
       "1  2014-07-07  94.14  95.99  94.10  95.97  56305400      95.97\n",
       "2  2014-07-03  93.67  94.10  93.20  94.03  22891800      94.03\n",
       "3  2014-07-02  93.87  94.06  93.09  93.48  28420900      93.48\n",
       "4  2014-07-01  93.52  94.07  93.13  93.52  38170200      93.52"
      ]
     },
     "execution_count": 3,
     "metadata": {},
     "output_type": "execute_result"
    }
   ],
   "source": [
    "apple = pd.read_csv('https://raw.githubusercontent.com/guipsamora/pandas_exercises/master/09_Time_Series/Apple_Stock/appl_1980_2014.csv')\n",
    "apple.head()"
   ]
  },
  {
   "cell_type": "code",
   "execution_count": 4,
   "id": "8ab4e522-427a-4722-8ba9-98133cab0d86",
   "metadata": {},
   "outputs": [
    {
     "name": "stdout",
     "output_type": "stream",
     "text": [
      "<class 'pandas.core.frame.DataFrame'>\n",
      "RangeIndex: 8465 entries, 0 to 8464\n",
      "Data columns (total 7 columns):\n",
      " #   Column     Non-Null Count  Dtype  \n",
      "---  ------     --------------  -----  \n",
      " 0   Date       8465 non-null   object \n",
      " 1   Open       8465 non-null   float64\n",
      " 2   High       8465 non-null   float64\n",
      " 3   Low        8465 non-null   float64\n",
      " 4   Close      8465 non-null   float64\n",
      " 5   Volume     8465 non-null   int64  \n",
      " 6   Adj Close  8465 non-null   float64\n",
      "dtypes: float64(5), int64(1), object(1)\n",
      "memory usage: 463.1+ KB\n"
     ]
    }
   ],
   "source": [
    "apple.info()"
   ]
  },
  {
   "cell_type": "code",
   "execution_count": 5,
   "id": "206c2612-234e-471e-8028-cfa6ffe027e6",
   "metadata": {},
   "outputs": [
    {
     "data": {
      "text/plain": [
       "(8465, 7)"
      ]
     },
     "execution_count": 5,
     "metadata": {},
     "output_type": "execute_result"
    }
   ],
   "source": [
    "apple.shape"
   ]
  },
  {
   "cell_type": "markdown",
   "id": "ab7bb185-f6f3-46ed-ad71-549a8a768316",
   "metadata": {},
   "source": [
    "### Check out the type of the columns."
   ]
  },
  {
   "cell_type": "code",
   "execution_count": 6,
   "id": "791ab80f-ea84-4af9-9f48-f6e47557e877",
   "metadata": {},
   "outputs": [
    {
     "data": {
      "text/plain": [
       "Date          object\n",
       "Open         float64\n",
       "High         float64\n",
       "Low          float64\n",
       "Close        float64\n",
       "Volume         int64\n",
       "Adj Close    float64\n",
       "dtype: object"
      ]
     },
     "execution_count": 6,
     "metadata": {},
     "output_type": "execute_result"
    }
   ],
   "source": [
    "apple.dtypes"
   ]
  },
  {
   "cell_type": "markdown",
   "id": "98dac07d-0b1a-4377-953d-be434909ade2",
   "metadata": {},
   "source": [
    "### Transform the Date column as a datetime type."
   ]
  },
  {
   "cell_type": "code",
   "execution_count": 7,
   "id": "bbb1cba6-ac43-4e2f-ba51-522b6b6ac72d",
   "metadata": {},
   "outputs": [],
   "source": [
    "apple['Date'] = pd.to_datetime(apple['Date'])"
   ]
  },
  {
   "cell_type": "code",
   "execution_count": 8,
   "id": "62b3a32e-7917-4345-a05f-86ec43e1dea5",
   "metadata": {},
   "outputs": [
    {
     "data": {
      "text/plain": [
       "Date         datetime64[ns]\n",
       "Open                float64\n",
       "High                float64\n",
       "Low                 float64\n",
       "Close               float64\n",
       "Volume                int64\n",
       "Adj Close           float64\n",
       "dtype: object"
      ]
     },
     "execution_count": 8,
     "metadata": {},
     "output_type": "execute_result"
    }
   ],
   "source": [
    "apple.dtypes"
   ]
  },
  {
   "cell_type": "markdown",
   "id": "542c1f50-0201-448f-84b4-f62cde86d563",
   "metadata": {},
   "source": [
    "### Set the date as the index."
   ]
  },
  {
   "cell_type": "code",
   "execution_count": 11,
   "id": "090f8166-8600-4e4f-bfb6-ffd1f1e481b5",
   "metadata": {},
   "outputs": [
    {
     "data": {
      "text/html": [
       "<div>\n",
       "<style scoped>\n",
       "    .dataframe tbody tr th:only-of-type {\n",
       "        vertical-align: middle;\n",
       "    }\n",
       "\n",
       "    .dataframe tbody tr th {\n",
       "        vertical-align: top;\n",
       "    }\n",
       "\n",
       "    .dataframe thead th {\n",
       "        text-align: right;\n",
       "    }\n",
       "</style>\n",
       "<table border=\"1\" class=\"dataframe\">\n",
       "  <thead>\n",
       "    <tr style=\"text-align: right;\">\n",
       "      <th></th>\n",
       "      <th>Date</th>\n",
       "      <th>Open</th>\n",
       "      <th>High</th>\n",
       "      <th>Low</th>\n",
       "      <th>Close</th>\n",
       "      <th>Volume</th>\n",
       "      <th>Adj Close</th>\n",
       "    </tr>\n",
       "    <tr>\n",
       "      <th>Date</th>\n",
       "      <th></th>\n",
       "      <th></th>\n",
       "      <th></th>\n",
       "      <th></th>\n",
       "      <th></th>\n",
       "      <th></th>\n",
       "      <th></th>\n",
       "    </tr>\n",
       "  </thead>\n",
       "  <tbody>\n",
       "    <tr>\n",
       "      <th>2014-07-08</th>\n",
       "      <td>2014-07-08</td>\n",
       "      <td>96.27</td>\n",
       "      <td>96.80</td>\n",
       "      <td>93.92</td>\n",
       "      <td>95.35</td>\n",
       "      <td>65130000</td>\n",
       "      <td>95.35</td>\n",
       "    </tr>\n",
       "    <tr>\n",
       "      <th>2014-07-07</th>\n",
       "      <td>2014-07-07</td>\n",
       "      <td>94.14</td>\n",
       "      <td>95.99</td>\n",
       "      <td>94.10</td>\n",
       "      <td>95.97</td>\n",
       "      <td>56305400</td>\n",
       "      <td>95.97</td>\n",
       "    </tr>\n",
       "    <tr>\n",
       "      <th>2014-07-03</th>\n",
       "      <td>2014-07-03</td>\n",
       "      <td>93.67</td>\n",
       "      <td>94.10</td>\n",
       "      <td>93.20</td>\n",
       "      <td>94.03</td>\n",
       "      <td>22891800</td>\n",
       "      <td>94.03</td>\n",
       "    </tr>\n",
       "    <tr>\n",
       "      <th>2014-07-02</th>\n",
       "      <td>2014-07-02</td>\n",
       "      <td>93.87</td>\n",
       "      <td>94.06</td>\n",
       "      <td>93.09</td>\n",
       "      <td>93.48</td>\n",
       "      <td>28420900</td>\n",
       "      <td>93.48</td>\n",
       "    </tr>\n",
       "    <tr>\n",
       "      <th>2014-07-01</th>\n",
       "      <td>2014-07-01</td>\n",
       "      <td>93.52</td>\n",
       "      <td>94.07</td>\n",
       "      <td>93.13</td>\n",
       "      <td>93.52</td>\n",
       "      <td>38170200</td>\n",
       "      <td>93.52</td>\n",
       "    </tr>\n",
       "  </tbody>\n",
       "</table>\n",
       "</div>"
      ],
      "text/plain": [
       "                 Date   Open   High    Low  Close    Volume  Adj Close\n",
       "Date                                                                  \n",
       "2014-07-08 2014-07-08  96.27  96.80  93.92  95.35  65130000      95.35\n",
       "2014-07-07 2014-07-07  94.14  95.99  94.10  95.97  56305400      95.97\n",
       "2014-07-03 2014-07-03  93.67  94.10  93.20  94.03  22891800      94.03\n",
       "2014-07-02 2014-07-02  93.87  94.06  93.09  93.48  28420900      93.48\n",
       "2014-07-01 2014-07-01  93.52  94.07  93.13  93.52  38170200      93.52"
      ]
     },
     "execution_count": 11,
     "metadata": {},
     "output_type": "execute_result"
    }
   ],
   "source": [
    "apple = apple.set_index(apple['Date'])\n",
    "\n",
    "apple.head()"
   ]
  },
  {
   "cell_type": "markdown",
   "id": "79d0d710-eecf-4852-91fb-48c926fd60f2",
   "metadata": {},
   "source": [
    "### Is there any duplicate dates?"
   ]
  },
  {
   "cell_type": "code",
   "execution_count": 14,
   "id": "72688e08-edc7-48d1-9942-c2df259eb2f1",
   "metadata": {},
   "outputs": [
    {
     "data": {
      "text/plain": [
       "0"
      ]
     },
     "execution_count": 14,
     "metadata": {},
     "output_type": "execute_result"
    }
   ],
   "source": [
    "apple.index.duplicated().sum() # 중복된 인덱스의 개수"
   ]
  },
  {
   "cell_type": "code",
   "execution_count": 15,
   "id": "c709ddb3-4546-4398-a7c4-a501bdf05f59",
   "metadata": {},
   "outputs": [
    {
     "data": {
      "text/plain": [
       "True"
      ]
     },
     "execution_count": 15,
     "metadata": {},
     "output_type": "execute_result"
    }
   ],
   "source": [
    "apple.index.is_unique # 인덱스가 고유한지 확인 "
   ]
  },
  {
   "cell_type": "markdown",
   "id": "7bdd68d1-f09a-405b-8399-13e09aa7b5c2",
   "metadata": {},
   "source": [
    "### Ops... it seems the index is from the most recent date. Make the first entry the oldest date."
   ]
  },
  {
   "cell_type": "code",
   "execution_count": 16,
   "id": "15f220c5-5443-4a18-af16-4482fc85116f",
   "metadata": {},
   "outputs": [
    {
     "data": {
      "text/html": [
       "<div>\n",
       "<style scoped>\n",
       "    .dataframe tbody tr th:only-of-type {\n",
       "        vertical-align: middle;\n",
       "    }\n",
       "\n",
       "    .dataframe tbody tr th {\n",
       "        vertical-align: top;\n",
       "    }\n",
       "\n",
       "    .dataframe thead th {\n",
       "        text-align: right;\n",
       "    }\n",
       "</style>\n",
       "<table border=\"1\" class=\"dataframe\">\n",
       "  <thead>\n",
       "    <tr style=\"text-align: right;\">\n",
       "      <th></th>\n",
       "      <th>Date</th>\n",
       "      <th>Open</th>\n",
       "      <th>High</th>\n",
       "      <th>Low</th>\n",
       "      <th>Close</th>\n",
       "      <th>Volume</th>\n",
       "      <th>Adj Close</th>\n",
       "    </tr>\n",
       "    <tr>\n",
       "      <th>Date</th>\n",
       "      <th></th>\n",
       "      <th></th>\n",
       "      <th></th>\n",
       "      <th></th>\n",
       "      <th></th>\n",
       "      <th></th>\n",
       "      <th></th>\n",
       "    </tr>\n",
       "  </thead>\n",
       "  <tbody>\n",
       "    <tr>\n",
       "      <th>1980-12-12</th>\n",
       "      <td>1980-12-12</td>\n",
       "      <td>28.75</td>\n",
       "      <td>28.87</td>\n",
       "      <td>28.75</td>\n",
       "      <td>28.75</td>\n",
       "      <td>117258400</td>\n",
       "      <td>0.45</td>\n",
       "    </tr>\n",
       "    <tr>\n",
       "      <th>1980-12-15</th>\n",
       "      <td>1980-12-15</td>\n",
       "      <td>27.38</td>\n",
       "      <td>27.38</td>\n",
       "      <td>27.25</td>\n",
       "      <td>27.25</td>\n",
       "      <td>43971200</td>\n",
       "      <td>0.42</td>\n",
       "    </tr>\n",
       "    <tr>\n",
       "      <th>1980-12-16</th>\n",
       "      <td>1980-12-16</td>\n",
       "      <td>25.37</td>\n",
       "      <td>25.37</td>\n",
       "      <td>25.25</td>\n",
       "      <td>25.25</td>\n",
       "      <td>26432000</td>\n",
       "      <td>0.39</td>\n",
       "    </tr>\n",
       "    <tr>\n",
       "      <th>1980-12-17</th>\n",
       "      <td>1980-12-17</td>\n",
       "      <td>25.87</td>\n",
       "      <td>26.00</td>\n",
       "      <td>25.87</td>\n",
       "      <td>25.87</td>\n",
       "      <td>21610400</td>\n",
       "      <td>0.40</td>\n",
       "    </tr>\n",
       "    <tr>\n",
       "      <th>1980-12-18</th>\n",
       "      <td>1980-12-18</td>\n",
       "      <td>26.63</td>\n",
       "      <td>26.75</td>\n",
       "      <td>26.63</td>\n",
       "      <td>26.63</td>\n",
       "      <td>18362400</td>\n",
       "      <td>0.41</td>\n",
       "    </tr>\n",
       "  </tbody>\n",
       "</table>\n",
       "</div>"
      ],
      "text/plain": [
       "                 Date   Open   High    Low  Close     Volume  Adj Close\n",
       "Date                                                                   \n",
       "1980-12-12 1980-12-12  28.75  28.87  28.75  28.75  117258400       0.45\n",
       "1980-12-15 1980-12-15  27.38  27.38  27.25  27.25   43971200       0.42\n",
       "1980-12-16 1980-12-16  25.37  25.37  25.25  25.25   26432000       0.39\n",
       "1980-12-17 1980-12-17  25.87  26.00  25.87  25.87   21610400       0.40\n",
       "1980-12-18 1980-12-18  26.63  26.75  26.63  26.63   18362400       0.41"
      ]
     },
     "execution_count": 16,
     "metadata": {},
     "output_type": "execute_result"
    }
   ],
   "source": [
    "apple.sort_index(ascending=True).head()"
   ]
  },
  {
   "cell_type": "markdown",
   "id": "5d5a4672-7bad-457d-a491-aeca502bb284",
   "metadata": {},
   "source": [
    "### Get the last business day of each month."
   ]
  },
  {
   "cell_type": "code",
   "execution_count": 21,
   "id": "c4bd99ef-051d-44b2-be4f-6b377f48faa4",
   "metadata": {},
   "outputs": [
    {
     "data": {
      "text/html": [
       "<div>\n",
       "<style scoped>\n",
       "    .dataframe tbody tr th:only-of-type {\n",
       "        vertical-align: middle;\n",
       "    }\n",
       "\n",
       "    .dataframe tbody tr th {\n",
       "        vertical-align: top;\n",
       "    }\n",
       "\n",
       "    .dataframe thead th {\n",
       "        text-align: right;\n",
       "    }\n",
       "</style>\n",
       "<table border=\"1\" class=\"dataframe\">\n",
       "  <thead>\n",
       "    <tr style=\"text-align: right;\">\n",
       "      <th></th>\n",
       "      <th>Date</th>\n",
       "      <th>Open</th>\n",
       "      <th>High</th>\n",
       "      <th>Low</th>\n",
       "      <th>Close</th>\n",
       "      <th>Volume</th>\n",
       "      <th>Adj Close</th>\n",
       "    </tr>\n",
       "    <tr>\n",
       "      <th>Date</th>\n",
       "      <th></th>\n",
       "      <th></th>\n",
       "      <th></th>\n",
       "      <th></th>\n",
       "      <th></th>\n",
       "      <th></th>\n",
       "      <th></th>\n",
       "    </tr>\n",
       "  </thead>\n",
       "  <tbody>\n",
       "    <tr>\n",
       "      <th>1980-12-31</th>\n",
       "      <td>1980-12-21 16:36:55.384615360</td>\n",
       "      <td>30.481538</td>\n",
       "      <td>30.567692</td>\n",
       "      <td>30.443077</td>\n",
       "      <td>30.443077</td>\n",
       "      <td>2.586252e+07</td>\n",
       "      <td>0.473077</td>\n",
       "    </tr>\n",
       "    <tr>\n",
       "      <th>1981-01-30</th>\n",
       "      <td>1981-01-16 18:17:08.571428544</td>\n",
       "      <td>31.754762</td>\n",
       "      <td>31.826667</td>\n",
       "      <td>31.654762</td>\n",
       "      <td>31.654762</td>\n",
       "      <td>7.249867e+06</td>\n",
       "      <td>0.493810</td>\n",
       "    </tr>\n",
       "    <tr>\n",
       "      <th>1981-02-27</th>\n",
       "      <td>1981-02-14 10:06:18.947368448</td>\n",
       "      <td>26.480000</td>\n",
       "      <td>26.572105</td>\n",
       "      <td>26.407895</td>\n",
       "      <td>26.407895</td>\n",
       "      <td>4.231832e+06</td>\n",
       "      <td>0.411053</td>\n",
       "    </tr>\n",
       "    <tr>\n",
       "      <th>1981-03-31</th>\n",
       "      <td>1981-03-15 22:54:32.727272704</td>\n",
       "      <td>24.937727</td>\n",
       "      <td>25.016818</td>\n",
       "      <td>24.836364</td>\n",
       "      <td>24.836364</td>\n",
       "      <td>7.962691e+06</td>\n",
       "      <td>0.387727</td>\n",
       "    </tr>\n",
       "    <tr>\n",
       "      <th>1981-04-30</th>\n",
       "      <td>1981-04-15 14:51:25.714285696</td>\n",
       "      <td>27.286667</td>\n",
       "      <td>27.368095</td>\n",
       "      <td>27.227143</td>\n",
       "      <td>27.227143</td>\n",
       "      <td>6.392000e+06</td>\n",
       "      <td>0.423333</td>\n",
       "    </tr>\n",
       "  </tbody>\n",
       "</table>\n",
       "</div>"
      ],
      "text/plain": [
       "                                    Date       Open       High        Low  \\\n",
       "Date                                                                        \n",
       "1980-12-31 1980-12-21 16:36:55.384615360  30.481538  30.567692  30.443077   \n",
       "1981-01-30 1981-01-16 18:17:08.571428544  31.754762  31.826667  31.654762   \n",
       "1981-02-27 1981-02-14 10:06:18.947368448  26.480000  26.572105  26.407895   \n",
       "1981-03-31 1981-03-15 22:54:32.727272704  24.937727  25.016818  24.836364   \n",
       "1981-04-30 1981-04-15 14:51:25.714285696  27.286667  27.368095  27.227143   \n",
       "\n",
       "                Close        Volume  Adj Close  \n",
       "Date                                            \n",
       "1980-12-31  30.443077  2.586252e+07   0.473077  \n",
       "1981-01-30  31.654762  7.249867e+06   0.493810  \n",
       "1981-02-27  26.407895  4.231832e+06   0.411053  \n",
       "1981-03-31  24.836364  7.962691e+06   0.387727  \n",
       "1981-04-30  27.227143  6.392000e+06   0.423333  "
      ]
     },
     "execution_count": 21,
     "metadata": {},
     "output_type": "execute_result"
    }
   ],
   "source": [
    "# 매월의 마지막 영업일\n",
    "\n",
    "last_day = apple.resample('BM').mean()\n",
    "# 비즈니스 월별(Business Month): 각 월의 마지막 영업일(주말 제외) 기준으로 리샘플링\n",
    "\n",
    "last_day.head()\n",
    "\n",
    "# .resample()을 실행하면 DatetimeIndexResampler 객체를 반환 → 이 객체는 아직 데이터가 처리되지 않은 상태\n",
    "# 따라서, head()를 직접 사용할 수 없음 (집계함수를 먼저 실행해야 사용 가능)"
   ]
  },
  {
   "cell_type": "markdown",
   "id": "008a863c-e81d-4161-84e9-b96f212aac00",
   "metadata": {},
   "source": [
    "- **M(월별, Monthly)**: 각 월의 마지막 날을 기준으로 리샘플링\n",
    "- **A(연도별, Annual)**: 각 연도의 마지막 날을 기준으로 리샘플링 "
   ]
  },
  {
   "cell_type": "markdown",
   "id": "b5990563-f49a-471c-aab7-2a8fd69b92c2",
   "metadata": {},
   "source": [
    "### What is the difference in days between the first day and the oldest."
   ]
  },
  {
   "cell_type": "code",
   "execution_count": 22,
   "id": "4e5e7f96-0325-4a12-8b73-be96c5f42df5",
   "metadata": {},
   "outputs": [
    {
     "data": {
      "text/plain": [
       "12261"
      ]
     },
     "execution_count": 22,
     "metadata": {},
     "output_type": "execute_result"
    }
   ],
   "source": [
    "day_differ = apple.index.max() - apple.index.min()\n",
    "day_differ.days"
   ]
  },
  {
   "cell_type": "markdown",
   "id": "cff0024a-27ae-429b-8bc4-f597fefba53a",
   "metadata": {},
   "source": [
    "- **days**: 날짜 차이 객체에서 일 단위의 차이를 반환하는 속성 **(두 날짜 간의 차이를 days 단위로 반환)**"
   ]
  },
  {
   "cell_type": "markdown",
   "id": "721ce29a-8b7e-4663-92dc-0252002751c3",
   "metadata": {},
   "source": [
    "### How many months in the data we have?"
   ]
  },
  {
   "cell_type": "code",
   "execution_count": 25,
   "id": "bb010d6b-fd3c-49c2-8993-1fef0943d0e6",
   "metadata": {},
   "outputs": [
    {
     "data": {
      "text/html": [
       "<div>\n",
       "<style scoped>\n",
       "    .dataframe tbody tr th:only-of-type {\n",
       "        vertical-align: middle;\n",
       "    }\n",
       "\n",
       "    .dataframe tbody tr th {\n",
       "        vertical-align: top;\n",
       "    }\n",
       "\n",
       "    .dataframe thead th {\n",
       "        text-align: right;\n",
       "    }\n",
       "</style>\n",
       "<table border=\"1\" class=\"dataframe\">\n",
       "  <thead>\n",
       "    <tr style=\"text-align: right;\">\n",
       "      <th></th>\n",
       "      <th>Date</th>\n",
       "      <th>Open</th>\n",
       "      <th>High</th>\n",
       "      <th>Low</th>\n",
       "      <th>Close</th>\n",
       "      <th>Volume</th>\n",
       "      <th>Adj Close</th>\n",
       "    </tr>\n",
       "    <tr>\n",
       "      <th>Date</th>\n",
       "      <th></th>\n",
       "      <th></th>\n",
       "      <th></th>\n",
       "      <th></th>\n",
       "      <th></th>\n",
       "      <th></th>\n",
       "      <th></th>\n",
       "    </tr>\n",
       "  </thead>\n",
       "  <tbody>\n",
       "    <tr>\n",
       "      <th>1980-12-31</th>\n",
       "      <td>1980-12-21 16:36:55.384615360</td>\n",
       "      <td>30.481538</td>\n",
       "      <td>30.567692</td>\n",
       "      <td>30.443077</td>\n",
       "      <td>30.443077</td>\n",
       "      <td>2.586252e+07</td>\n",
       "      <td>0.473077</td>\n",
       "    </tr>\n",
       "    <tr>\n",
       "      <th>1981-01-30</th>\n",
       "      <td>1981-01-16 18:17:08.571428544</td>\n",
       "      <td>31.754762</td>\n",
       "      <td>31.826667</td>\n",
       "      <td>31.654762</td>\n",
       "      <td>31.654762</td>\n",
       "      <td>7.249867e+06</td>\n",
       "      <td>0.493810</td>\n",
       "    </tr>\n",
       "    <tr>\n",
       "      <th>1981-02-27</th>\n",
       "      <td>1981-02-14 10:06:18.947368448</td>\n",
       "      <td>26.480000</td>\n",
       "      <td>26.572105</td>\n",
       "      <td>26.407895</td>\n",
       "      <td>26.407895</td>\n",
       "      <td>4.231832e+06</td>\n",
       "      <td>0.411053</td>\n",
       "    </tr>\n",
       "    <tr>\n",
       "      <th>1981-03-31</th>\n",
       "      <td>1981-03-15 22:54:32.727272704</td>\n",
       "      <td>24.937727</td>\n",
       "      <td>25.016818</td>\n",
       "      <td>24.836364</td>\n",
       "      <td>24.836364</td>\n",
       "      <td>7.962691e+06</td>\n",
       "      <td>0.387727</td>\n",
       "    </tr>\n",
       "    <tr>\n",
       "      <th>1981-04-30</th>\n",
       "      <td>1981-04-15 14:51:25.714285696</td>\n",
       "      <td>27.286667</td>\n",
       "      <td>27.368095</td>\n",
       "      <td>27.227143</td>\n",
       "      <td>27.227143</td>\n",
       "      <td>6.392000e+06</td>\n",
       "      <td>0.423333</td>\n",
       "    </tr>\n",
       "    <tr>\n",
       "      <th>...</th>\n",
       "      <td>...</td>\n",
       "      <td>...</td>\n",
       "      <td>...</td>\n",
       "      <td>...</td>\n",
       "      <td>...</td>\n",
       "      <td>...</td>\n",
       "      <td>...</td>\n",
       "    </tr>\n",
       "    <tr>\n",
       "      <th>2014-03-31</th>\n",
       "      <td>2014-03-16 05:42:51.428571392</td>\n",
       "      <td>533.593333</td>\n",
       "      <td>536.453810</td>\n",
       "      <td>530.070952</td>\n",
       "      <td>533.214286</td>\n",
       "      <td>5.954403e+07</td>\n",
       "      <td>75.750000</td>\n",
       "    </tr>\n",
       "    <tr>\n",
       "      <th>2014-04-30</th>\n",
       "      <td>2014-04-15 04:34:17.142857216</td>\n",
       "      <td>540.081905</td>\n",
       "      <td>544.349048</td>\n",
       "      <td>536.262381</td>\n",
       "      <td>541.074286</td>\n",
       "      <td>7.660787e+07</td>\n",
       "      <td>76.867143</td>\n",
       "    </tr>\n",
       "    <tr>\n",
       "      <th>2014-05-30</th>\n",
       "      <td>2014-05-15 13:42:51.428571392</td>\n",
       "      <td>601.301905</td>\n",
       "      <td>606.372857</td>\n",
       "      <td>598.332857</td>\n",
       "      <td>603.195714</td>\n",
       "      <td>6.828177e+07</td>\n",
       "      <td>86.058571</td>\n",
       "    </tr>\n",
       "    <tr>\n",
       "      <th>2014-06-30</th>\n",
       "      <td>2014-06-15 05:42:51.428571392</td>\n",
       "      <td>222.360000</td>\n",
       "      <td>224.084286</td>\n",
       "      <td>220.735714</td>\n",
       "      <td>222.658095</td>\n",
       "      <td>5.745506e+07</td>\n",
       "      <td>91.885714</td>\n",
       "    </tr>\n",
       "    <tr>\n",
       "      <th>2014-07-31</th>\n",
       "      <td>2014-07-04 04:48:00.000000000</td>\n",
       "      <td>94.294000</td>\n",
       "      <td>95.004000</td>\n",
       "      <td>93.488000</td>\n",
       "      <td>94.470000</td>\n",
       "      <td>4.218366e+07</td>\n",
       "      <td>94.470000</td>\n",
       "    </tr>\n",
       "  </tbody>\n",
       "</table>\n",
       "<p>404 rows × 7 columns</p>\n",
       "</div>"
      ],
      "text/plain": [
       "                                    Date        Open        High         Low  \\\n",
       "Date                                                                           \n",
       "1980-12-31 1980-12-21 16:36:55.384615360   30.481538   30.567692   30.443077   \n",
       "1981-01-30 1981-01-16 18:17:08.571428544   31.754762   31.826667   31.654762   \n",
       "1981-02-27 1981-02-14 10:06:18.947368448   26.480000   26.572105   26.407895   \n",
       "1981-03-31 1981-03-15 22:54:32.727272704   24.937727   25.016818   24.836364   \n",
       "1981-04-30 1981-04-15 14:51:25.714285696   27.286667   27.368095   27.227143   \n",
       "...                                  ...         ...         ...         ...   \n",
       "2014-03-31 2014-03-16 05:42:51.428571392  533.593333  536.453810  530.070952   \n",
       "2014-04-30 2014-04-15 04:34:17.142857216  540.081905  544.349048  536.262381   \n",
       "2014-05-30 2014-05-15 13:42:51.428571392  601.301905  606.372857  598.332857   \n",
       "2014-06-30 2014-06-15 05:42:51.428571392  222.360000  224.084286  220.735714   \n",
       "2014-07-31 2014-07-04 04:48:00.000000000   94.294000   95.004000   93.488000   \n",
       "\n",
       "                 Close        Volume  Adj Close  \n",
       "Date                                             \n",
       "1980-12-31   30.443077  2.586252e+07   0.473077  \n",
       "1981-01-30   31.654762  7.249867e+06   0.493810  \n",
       "1981-02-27   26.407895  4.231832e+06   0.411053  \n",
       "1981-03-31   24.836364  7.962691e+06   0.387727  \n",
       "1981-04-30   27.227143  6.392000e+06   0.423333  \n",
       "...                ...           ...        ...  \n",
       "2014-03-31  533.214286  5.954403e+07  75.750000  \n",
       "2014-04-30  541.074286  7.660787e+07  76.867143  \n",
       "2014-05-30  603.195714  6.828177e+07  86.058571  \n",
       "2014-06-30  222.658095  5.745506e+07  91.885714  \n",
       "2014-07-31   94.470000  4.218366e+07  94.470000  \n",
       "\n",
       "[404 rows x 7 columns]"
      ]
     },
     "execution_count": 25,
     "metadata": {},
     "output_type": "execute_result"
    }
   ],
   "source": [
    "apple_month = apple.resample('BM').mean() # => 왜 mean()이 아닌, sum()은 안되는가?\n",
    "apple_month"
   ]
  },
  {
   "cell_type": "markdown",
   "id": "bd443a6d-5671-4b2b-a8dd-bf5eaff213c1",
   "metadata": {},
   "source": [
    "### Plot the 'Adi Close' value. Set the size of the figure to 13.5 x 9 inches."
   ]
  },
  {
   "cell_type": "code",
   "execution_count": 28,
   "id": "06741982-dbe3-4474-acbd-43937f1f0a8f",
   "metadata": {},
   "outputs": [
    {
     "data": {
      "image/png": "[encoded data removed]",
      "text/plain": [
       "<Figure size 1350x900 with 1 Axes>"
      ]
     },
     "metadata": {},
     "output_type": "display_data"
    }
   ],
   "source": [
    "plot = apple['Adj Close'].plot(title = 'Graph')\n",
    "\n",
    "fig = plot.get_figure() # seaborn에서 생성한 그래프를 matploblib의 figure 객체로 변환하는 함수\n",
    "fig.set_size_inches(13.5, 9)"
   ]
  },
  {
   "cell_type": "code",
   "execution_count": null,
   "id": "0bdeb271-b5cb-4ea4-af66-4ccc9a349dff",
   "metadata": {},
   "outputs": [],
   "source": []
  }
 ],
 "metadata": {
  "kernelspec": {
   "display_name": "Python 3 (ipykernel)",
   "language": "python",
   "name": "python3"
  },
  "language_info": {
   "codemirror_mode": {
    "name": "ipython",
    "version": 3
   },
   "file_extension": ".py",
   "mimetype": "text/x-python",
   "name": "python",
   "nbconvert_exporter": "python",
   "pygments_lexer": "ipython3",
   "version": "3.11.7"
  }
 },
 "nbformat": 4,
 "nbformat_minor": 5
}
