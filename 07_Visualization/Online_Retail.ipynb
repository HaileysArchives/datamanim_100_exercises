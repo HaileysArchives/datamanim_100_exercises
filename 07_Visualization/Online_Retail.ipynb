{
 "cells": [
  {
   "cell_type": "code",
   "execution_count": 1,
   "id": "34215f9c-9a07-49f5-a7a0-2fefa36bdee3",
   "metadata": {},
   "outputs": [],
   "source": [
    "import pandas as pd\n",
    "import numpy as np\n",
    "\n",
    "import matplotlib.pyplot as plt \n",
    "import seaborn as sns \n",
    "\n",
    "# set the graphs to show in the jupyter notebook\n",
    "%matplotlib inline\n",
    "\n",
    "import datetime\n",
    "from collections import Counter"
   ]
  },
  {
   "cell_type": "code",
   "execution_count": 2,
   "id": "ec3f0b50-a605-48ac-99ad-3246e4524c99",
   "metadata": {},
   "outputs": [
    {
     "data": {
      "text/html": [
       "<div>\n",
       "<style scoped>\n",
       "    .dataframe tbody tr th:only-of-type {\n",
       "        vertical-align: middle;\n",
       "    }\n",
       "\n",
       "    .dataframe tbody tr th {\n",
       "        vertical-align: top;\n",
       "    }\n",
       "\n",
       "    .dataframe thead th {\n",
       "        text-align: right;\n",
       "    }\n",
       "</style>\n",
       "<table border=\"1\" class=\"dataframe\">\n",
       "  <thead>\n",
       "    <tr style=\"text-align: right;\">\n",
       "      <th></th>\n",
       "      <th>InvoiceNo</th>\n",
       "      <th>StockCode</th>\n",
       "      <th>Description</th>\n",
       "      <th>Quantity</th>\n",
       "      <th>InvoiceDate</th>\n",
       "      <th>UnitPrice</th>\n",
       "      <th>CustomerID</th>\n",
       "      <th>Country</th>\n",
       "    </tr>\n",
       "  </thead>\n",
       "  <tbody>\n",
       "    <tr>\n",
       "      <th>0</th>\n",
       "      <td>536365</td>\n",
       "      <td>85123A</td>\n",
       "      <td>WHITE HANGING HEART T-LIGHT HOLDER</td>\n",
       "      <td>6</td>\n",
       "      <td>12/1/10 8:26</td>\n",
       "      <td>2.55</td>\n",
       "      <td>17850.0</td>\n",
       "      <td>United Kingdom</td>\n",
       "    </tr>\n",
       "    <tr>\n",
       "      <th>1</th>\n",
       "      <td>536365</td>\n",
       "      <td>71053</td>\n",
       "      <td>WHITE METAL LANTERN</td>\n",
       "      <td>6</td>\n",
       "      <td>12/1/10 8:26</td>\n",
       "      <td>3.39</td>\n",
       "      <td>17850.0</td>\n",
       "      <td>United Kingdom</td>\n",
       "    </tr>\n",
       "    <tr>\n",
       "      <th>2</th>\n",
       "      <td>536365</td>\n",
       "      <td>84406B</td>\n",
       "      <td>CREAM CUPID HEARTS COAT HANGER</td>\n",
       "      <td>8</td>\n",
       "      <td>12/1/10 8:26</td>\n",
       "      <td>2.75</td>\n",
       "      <td>17850.0</td>\n",
       "      <td>United Kingdom</td>\n",
       "    </tr>\n",
       "    <tr>\n",
       "      <th>3</th>\n",
       "      <td>536365</td>\n",
       "      <td>84029G</td>\n",
       "      <td>KNITTED UNION FLAG HOT WATER BOTTLE</td>\n",
       "      <td>6</td>\n",
       "      <td>12/1/10 8:26</td>\n",
       "      <td>3.39</td>\n",
       "      <td>17850.0</td>\n",
       "      <td>United Kingdom</td>\n",
       "    </tr>\n",
       "    <tr>\n",
       "      <th>4</th>\n",
       "      <td>536365</td>\n",
       "      <td>84029E</td>\n",
       "      <td>RED WOOLLY HOTTIE WHITE HEART.</td>\n",
       "      <td>6</td>\n",
       "      <td>12/1/10 8:26</td>\n",
       "      <td>3.39</td>\n",
       "      <td>17850.0</td>\n",
       "      <td>United Kingdom</td>\n",
       "    </tr>\n",
       "  </tbody>\n",
       "</table>\n",
       "</div>"
      ],
      "text/plain": [
       "  InvoiceNo StockCode                          Description  Quantity  \\\n",
       "0    536365    85123A   WHITE HANGING HEART T-LIGHT HOLDER         6   \n",
       "1    536365     71053                  WHITE METAL LANTERN         6   \n",
       "2    536365    84406B       CREAM CUPID HEARTS COAT HANGER         8   \n",
       "3    536365    84029G  KNITTED UNION FLAG HOT WATER BOTTLE         6   \n",
       "4    536365    84029E       RED WOOLLY HOTTIE WHITE HEART.         6   \n",
       "\n",
       "    InvoiceDate  UnitPrice  CustomerID         Country  \n",
       "0  12/1/10 8:26       2.55     17850.0  United Kingdom  \n",
       "1  12/1/10 8:26       3.39     17850.0  United Kingdom  \n",
       "2  12/1/10 8:26       2.75     17850.0  United Kingdom  \n",
       "3  12/1/10 8:26       3.39     17850.0  United Kingdom  \n",
       "4  12/1/10 8:26       3.39     17850.0  United Kingdom  "
      ]
     },
     "execution_count": 2,
     "metadata": {},
     "output_type": "execute_result"
    }
   ],
   "source": [
    "online = pd.read_csv('https://raw.githubusercontent.com/guipsamora/pandas_exercises/master/07_Visualization/Online_Retail/Online_Retail.csv', encoding='latin1')\n",
    "online.head()"
   ]
  },
  {
   "cell_type": "code",
   "execution_count": 3,
   "id": "a1048c73-faa3-4730-8900-6bb5d3ff2906",
   "metadata": {},
   "outputs": [
    {
     "name": "stdout",
     "output_type": "stream",
     "text": [
      "<class 'pandas.core.frame.DataFrame'>\n",
      "RangeIndex: 541909 entries, 0 to 541908\n",
      "Data columns (total 8 columns):\n",
      " #   Column       Non-Null Count   Dtype  \n",
      "---  ------       --------------   -----  \n",
      " 0   InvoiceNo    541909 non-null  object \n",
      " 1   StockCode    541909 non-null  object \n",
      " 2   Description  540455 non-null  object \n",
      " 3   Quantity     541909 non-null  int64  \n",
      " 4   InvoiceDate  541909 non-null  object \n",
      " 5   UnitPrice    541909 non-null  float64\n",
      " 6   CustomerID   406829 non-null  float64\n",
      " 7   Country      541909 non-null  object \n",
      "dtypes: float64(2), int64(1), object(5)\n",
      "memory usage: 33.1+ MB\n"
     ]
    }
   ],
   "source": [
    "online.info()"
   ]
  },
  {
   "cell_type": "code",
   "execution_count": 4,
   "id": "ac1e072c-a956-4d1b-892b-7197ab11c080",
   "metadata": {},
   "outputs": [
    {
     "data": {
      "text/plain": [
       "InvoiceNo           0\n",
       "StockCode           0\n",
       "Description      1454\n",
       "Quantity            0\n",
       "InvoiceDate         0\n",
       "UnitPrice           0\n",
       "CustomerID     135080\n",
       "Country             0\n",
       "dtype: int64"
      ]
     },
     "execution_count": 4,
     "metadata": {},
     "output_type": "execute_result"
    }
   ],
   "source": [
    "online.isnull().sum()"
   ]
  },
  {
   "cell_type": "code",
   "execution_count": 5,
   "id": "71a1fb73-c11a-4ee0-97f9-5bd11f44637f",
   "metadata": {},
   "outputs": [
    {
     "data": {
      "text/plain": [
       "(541909, 8)"
      ]
     },
     "execution_count": 5,
     "metadata": {},
     "output_type": "execute_result"
    }
   ],
   "source": [
    "online.shape"
   ]
  },
  {
   "cell_type": "markdown",
   "id": "aff054df-d172-4837-ab3a-f0bf356d4418",
   "metadata": {},
   "source": [
    "### Create a histogram with the 10 countries that have the most 'Quantity' ordered except UK"
   ]
  },
  {
   "cell_type": "code",
   "execution_count": null,
   "id": "379cd10f-4f9e-4fd0-ba5e-cf9035b2404d",
   "metadata": {},
   "outputs": [],
   "source": [
    "# UK를 제외한 'Quantity' 주문량이 가장 많은 10개 국가 대상으로 히스토그램 생성\n",
    "countries = online.groupby('Country').sum()\n",
    "countries.head()"
   ]
  },
  {
   "cell_type": "code",
   "execution_count": null,
   "id": "dd72eb2d-1b9d-43f1-b653-621ac7954a2b",
   "metadata": {},
   "outputs": [],
   "source": [
    "countries = countries.sort_values(by='Quantity', ascending=False)[1:11]"
   ]
  },
  {
   "cell_type": "code",
   "execution_count": null,
   "id": "0e6b620c-cdc4-46d2-9c73-ad7a556a6aed",
   "metadata": {},
   "outputs": [],
   "source": [
    "countries['Quantity'].plot(kind='bar')\n",
    "\n",
    "plt.xlabel('Countries')\n",
    "plt.ylabel('Quantity')\n",
    "plt.title('10 Countries with most orders')\n",
    "\n",
    "plt.show()"
   ]
  },
  {
   "cell_type": "markdown",
   "id": "50bb1a52-c0ea-4859-9e42-99d800944d47",
   "metadata": {},
   "source": [
    "### Exclude negative Quantity entries"
   ]
  },
  {
   "cell_type": "code",
   "execution_count": null,
   "id": "3569a2fa-d85b-4e21-aa89-552eb09bb93a",
   "metadata": {},
   "outputs": [],
   "source": [
    "online = online[online['Quantity'] > 0]\n",
    "online.head()"
   ]
  },
  {
   "cell_type": "markdown",
   "id": "e25d6ff8-3d23-48a4-8d30-bca568441b5c",
   "metadata": {},
   "source": [
    "### Create a scatterplot with the Quantity per UnitPrice by CustomID for the top 3 Countries (except UK)"
   ]
  },
  {
   "cell_type": "code",
   "execution_count": null,
   "id": "3d35fe44-42e5-47d6-aa38-ca6a624635ce",
   "metadata": {},
   "outputs": [],
   "source": [
    "# UK를 제외한 상위 3개 국가(CustomID별 단위 가격당 수량)에 대해 산점도 생성\n",
    "customers = online.groupby(['Countries', 'CustomerID']).sum()\n",
    "customers.head()"
   ]
  },
  {
   "cell_type": "code",
   "execution_count": null,
   "id": "bcaffc07-8b52-4d66-8d03-7444f4ba94f6",
   "metadata": {},
   "outputs": [],
   "source": [
    "# delete negative price\n",
    "customers = customers[customers['UnitPrice'] > 0]"
   ]
  },
  {
   "cell_type": "code",
   "execution_count": null,
   "id": "38ea54b8-f00f-4a9e-94fa-ba565bfbb795",
   "metadata": {},
   "outputs": [],
   "source": [
    "customers['Country'] = customers.index.get_level_index(1) # column Country?"
   ]
  },
  {
   "cell_type": "code",
   "execution_count": null,
   "id": "7059050b-0ff6-44f3-a655-d295e8c3d233",
   "metadata": {},
   "outputs": [],
   "source": [
    "top_countries = ['Netherlands', 'EIRE', 'Germany']\n",
    "\n",
    "customers = customers[customers['Country'].isin(top_countries)]"
   ]
  },
  {
   "cell_type": "code",
   "execution_count": null,
   "id": "5b162038-7398-4058-89f6-395fb4a200ed",
   "metadata": {},
   "outputs": [],
   "source": [
    "# Graph\n",
    "graph = sns.FaceGrid(customers, col='Contry')\n",
    "\n",
    "graph.map(plt.scatter, 'Quantity', 'UnitPrice', alpha=1)\n",
    "\n",
    "graph.add_legend() # 범례 추가 안 한 그래프랑 비교해보기!!!"
   ]
  },
  {
   "cell_type": "markdown",
   "id": "80caadb2-6618-4c9b-9762-bbe083010142",
   "metadata": {},
   "source": [
    "- **get_level_values()**: Pandas의 MultiIndex에서 특정 레벨의 값을 추출할 때 사용하는 함수 (특정 레벨만 보고 싶을 때 사용)\n",
    "##### 레벨과 열은 다른 개념이다. 레벨은 인덱스 안의 각 계층 (예) 레벨 0 → '도시' "
   ]
  },
  {
   "cell_type": "markdown",
   "id": "be32a3cb-8321-402a-a299-5bfe2aeb2b4d",
   "metadata": {},
   "source": [
    "- **add_legend():** seaborn에서 그래프에 범례(legend)를 추가하는 함수"
   ]
  },
  {
   "cell_type": "markdown",
   "id": "2067740e-f4c5-4ed5-8b53-9afe74cf1ef7",
   "metadata": {},
   "source": [
    "### Investigate why the previous results look so uniformative."
   ]
  },
  {
   "cell_type": "markdown",
   "id": "c7a39bcb-2c36-418b-885a-6117da839ca3",
   "metadata": {},
   "source": [
    "This section might seem a bit tedious to go through. But I've thought of it as some kind of a simulation of problems one might encounter when dealing with data and other people. Besides there is a prize at the end. (i.e Section 8.) "
   ]
  },
  {
   "cell_type": "code",
   "execution_count": null,
   "id": "dad84b62-35f4-4194-8493-f3e18dc287f2",
   "metadata": {},
   "outputs": [],
   "source": [
    "# 이전 결과가 왜 그렇게 정보가 부족해보이는지 조사 "
   ]
  },
  {
   "cell_type": "markdown",
   "id": "660b8526-820e-4fd4-9428-ad5f10a03b1c",
   "metadata": {},
   "source": [
    "### Look at the first line of code in Step 6. And try to figure out if it leads to any kind of problem."
   ]
  },
  {
   "cell_type": "markdown",
   "id": "7dc1100c-437c-4eba-9a00-eda56d287519",
   "metadata": {},
   "source": [
    "Display the first few rows of that DataFrame."
   ]
  },
  {
   "cell_type": "code",
   "execution_count": null,
   "id": "4f422c2d-8c8f-4f80-8f3b-70badd1dbaa2",
   "metadata": {},
   "outputs": [],
   "source": []
  },
  {
   "cell_type": "markdown",
   "id": "e918c310-8e3c-455e-99e0-e4ac728276f3",
   "metadata": {},
   "source": [
    "### Think about what the piece of code does and display the dtype of UnitPrice."
   ]
  },
  {
   "cell_type": "code",
   "execution_count": null,
   "id": "a0aa7342-707b-4c12-b915-4f0ebfd79c68",
   "metadata": {},
   "outputs": [],
   "source": []
  },
  {
   "cell_type": "markdown",
   "id": "641bd09c-ac5a-4159-8ee2-68413da3960d",
   "metadata": {},
   "source": [
    "### Pull data from online_rt for CustromIDs 12346.0 and 12347.0."
   ]
  },
  {
   "cell_type": "code",
   "execution_count": null,
   "id": "35c832cb-b5d1-4119-9158-7088eb408d70",
   "metadata": {},
   "outputs": [],
   "source": []
  },
  {
   "cell_type": "markdown",
   "id": "af394bda-cf2c-4579-950a-487a8678b7c6",
   "metadata": {},
   "source": [
    "### Reinterpreting the initial problem. \n",
    "To reiterate the question that we were dealing with:\r\n",
    "\"Create a scatterplot with the Quantity per UnitPrice by CustomerID for the top 3 Countries\"\r\n",
    "\r\n",
    "The question is open to a set of different interpretations. We need to disambiguate.\r\n",
    "\r\n",
    "We could do a single plot by looking at all the data from the top 3 countries. Or we could do one plot per country. To keep things consistent with the rest of the exercise, let's stick to the latter oprion. So that's settled.\r\n",
    "\r\n",
    "But \"top 3 countries\" with respect to what? Two answers suggest themselves: Total sales volume (i.e. total quantity sold) or total sales (i.e. revenue). This exercise goes for sales volume, so let's stick to that.\r\n",
    "\r\n",
    "Step 7.2.1 Find out the top 3 countries in terms of sales volume."
   ]
  },
  {
   "cell_type": "code",
   "execution_count": null,
   "id": "0f24d554-aa9c-4972-8f7b-ef5e54289b6b",
   "metadata": {},
   "outputs": [],
   "source": []
  },
  {
   "cell_type": "markdown",
   "id": "4a3a6803-e64c-4ff6-b1d9-3dd0162e9c25",
   "metadata": {},
   "source": [
    "### Step 7.2.2\n",
    "\r\n",
    "Now that we have the top 3 countries, we can focus on the rest of the problem:\r\n",
    "\"Quantity per UnitPrice by CustomerID\".\r\n",
    "We need to unpack that.\r\n",
    "\r\n",
    "\"by CustomerID\" part is easy. That means we're going to be plotting one dot per CustomerID's on our plot. In other words, we're going to be grouping by CustomerID.\r\n",
    "\r\n",
    "\"Quantity per UnitPrice\" is trickier. Here's what we know:\r\n",
    "*One axis will represent a Quantity assigned to a given customer. This is easy; we can just plot the total Quantity for each customer.\r\n",
    "*The other axis will represent a UnitPrice assigned to a given customer. Remember a single customer can have any number of orders with different prices, so summing up prices isn't quite helpful. Besides it's not quite clear what we mean when we say \"unit price per customer\"; it sounds like price of the customer! A reasonable alternative is that we assign each customer the average amount each has paid per item. So let's settle that question in that manner."
   ]
  },
  {
   "cell_type": "markdown",
   "id": "1c415092-03be-415c-80dc-10771d8e32fc",
   "metadata": {},
   "source": [
    "### Modify, seect and plot data.\n",
    "Step 7.3.1 Add a column to online_rt called Revenue calculate the revenue (Quantity * UnitPrice) from each sale.\r\n",
    "We will use this later to figure out an average price per customer."
   ]
  },
  {
   "cell_type": "code",
   "execution_count": null,
   "id": "c2975a84-2d14-4dfc-96b0-c19cff3a860b",
   "metadata": {},
   "outputs": [],
   "source": []
  }
 ],
 "metadata": {
  "kernelspec": {
   "display_name": "Python 3 (ipykernel)",
   "language": "python",
   "name": "python3"
  },
  "language_info": {
   "codemirror_mode": {
    "name": "ipython",
    "version": 3
   },
   "file_extension": ".py",
   "mimetype": "text/x-python",
   "name": "python",
   "nbconvert_exporter": "python",
   "pygments_lexer": "ipython3",
   "version": "3.11.7"
  }
 },
 "nbformat": 4,
 "nbformat_minor": 5
}
